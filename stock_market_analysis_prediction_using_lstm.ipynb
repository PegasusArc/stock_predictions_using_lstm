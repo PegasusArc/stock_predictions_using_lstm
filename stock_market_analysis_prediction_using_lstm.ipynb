{
  "cells": [
    {
      "cell_type": "markdown",
      "metadata": {
        "id": "view-in-github",
        "colab_type": "text"
      },
      "source": [
        "<a href=\"https://colab.research.google.com/github/PegasusArc/stock_predictions_using_lstm/blob/main/stock_market_analysis_prediction_using_lstm.ipynb\" target=\"_parent\"><img src=\"https://colab.research.google.com/assets/colab-badge.svg\" alt=\"Open In Colab\"/></a>"
      ]
    },
    {
      "cell_type": "code",
      "source": [
        "import numpy as np\n",
        "import pandas as pd\n",
        "from matplotlib import pyplot as plt\n",
        "import seaborn as sns\n",
        "import statsmodels.api as sm\n",
        "from statsmodels.graphics.tsaplots import plot_acf, plot_pacf\n",
        "from pandas_datareader.data import DataReader\n",
        "import warnings\n",
        "from datetime import datetime\n",
        "import yfinance as yf\n",
        "\n",
        "warnings.filterwarnings(\"ignore\")"
      ],
      "metadata": {
        "id": "QZl9C9KEJR_Z"
      },
      "execution_count": 1,
      "outputs": []
    },
    {
      "cell_type": "code",
      "source": [
        "data = pd.read_csv('./AAPL.csv')\n",
        "print(data.shape)\n",
        "print(data.sample(7))"
      ],
      "metadata": {
        "id": "pwGd3MO3JWO8"
      },
      "execution_count": null,
      "outputs": []
    },
    {
      "cell_type": "code",
      "source": [
        "data.info()"
      ],
      "metadata": {
        "id": "3CNPTG5jJhKP"
      },
      "execution_count": null,
      "outputs": []
    },
    {
      "cell_type": "code",
      "source": [
        "# date vs open\n",
        "# date vs close\n",
        "plt.figure(figsize=(60, 30))\n",
        "plt.subplot(2, 2, 1)\n",
        "plt.plot(data['Date'], data['Close'], c=\"r\", label=\"Close\", marker=\"+\")\n",
        "plt.plot(data['Date'], data['Open'], c=\"g\", label=\"Open\", marker=\"^\")\n",
        "plt.title(\"AAPL\")\n",
        "plt.legend()\n",
        "plt.tight_layout()"
      ],
      "metadata": {
        "id": "ekgcX6hHvZUh"
      },
      "execution_count": null,
      "outputs": []
    },
    {
      "cell_type": "code",
      "source": [
        "plt.figure(figsize=(60, 30))\n",
        "plt.subplot(2, 2, 1)\n",
        "plt.plot(data['Date'], data['Volume'], c='purple', marker='*')\n",
        "plt.title(f\"AAPL Volume\")\n",
        "plt.tight_layout()"
      ],
      "metadata": {
        "id": "hGLb-9C6vhot"
      },
      "execution_count": null,
      "outputs": []
    },
    {
      "cell_type": "code",
      "source": [
        "prediction_range = data.loc[(data['Date'] > datetime(2013,1,1)) & (data['Date']<datetime(2020,1,1))]\n",
        "plt.figure(figsize=(60, 30))\n",
        "plt.subplot(2, 2, 1)\n",
        "\n",
        "plt.plot(data['Date'], data['Close'])\n",
        "plt.xlabel(\"Date\")\n",
        "plt.ylabel(\"Close\")\n",
        "plt.title(\"AAPL Stock Prices\")\n",
        "plt.show()"
      ],
      "metadata": {
        "id": "2HjlS3Rxvfjb"
      },
      "execution_count": null,
      "outputs": []
    },
    {
      "cell_type": "code",
      "source": [
        "close_data = data.filter(['Close'])\n",
        "dataset = close_data.values\n",
        "training = int(np.ceil(len(dataset) * .95))\n",
        "print(training)"
      ],
      "metadata": {
        "id": "OyZ5ST0xv3Fc"
      },
      "execution_count": null,
      "outputs": []
    },
    {
      "cell_type": "code",
      "source": [
        "from sklearn.preprocessing import MinMaxScaler\n",
        "\n",
        "scaler = MinMaxScaler(feature_range=(0, 1))\n",
        "scaled_data = scaler.fit_transform(dataset)\n",
        "\n",
        "train_data = scaled_data[0:int(training), :]\n",
        "# prepare feature and labels\n",
        "x_train = []\n",
        "y_train = []\n",
        "\n",
        "for i in range(60, len(train_data)):\n",
        "\tx_train.append(train_data[i-60:i, 0])\n",
        "\ty_train.append(train_data[i, 0])\n",
        "\n",
        "x_train, y_train = np.array(x_train), np.array(y_train)\n",
        "x_train = np.reshape(x_train, (x_train.shape[0], x_train.shape[1], 1))"
      ],
      "metadata": {
        "id": "WHJu5mygv4AB"
      },
      "execution_count": null,
      "outputs": []
    },
    {
      "cell_type": "code",
      "source": [
        "model = keras.models.Sequential()\n",
        "model.add(keras.layers.LSTM(units=64,\n",
        "\t\t\t\t\treturn_sequences=True,\n",
        "\t\t\t\t\tinput_shape=(x_train.shape[1], 1)))\n",
        "model.add(keras.layers.LSTM(units=64))\n",
        "model.add(keras.layers.Dense(32))\n",
        "model.add(keras.layers.Dropout(0.5))\n",
        "model.add(keras.layers.Dense(1))\n",
        "model.summary()"
      ],
      "metadata": {
        "id": "2rIOg2hPv7MH"
      },
      "execution_count": null,
      "outputs": []
    },
    {
      "cell_type": "code",
      "source": [
        "model.compile(optimizer='adam',\n",
        "\t\t\tloss='mean_squared_error')\n",
        "history = model.fit(x_train,\n",
        "\t\t\t\t\ty_train,\n",
        "\t\t\t\t\tepochs=10)"
      ],
      "metadata": {
        "id": "roifVn2gwIDI"
      },
      "execution_count": null,
      "outputs": []
    },
    {
      "cell_type": "code",
      "source": [
        "test_data = scaled_data[training - 60:, :]\n",
        "x_test = []\n",
        "y_test = dataset[training:, :]\n",
        "for i in range(60, len(test_data)):\n",
        "\tx_test.append(test_data[i-60:i, 0])\n",
        "\n",
        "x_test = np.array(x_test)\n",
        "x_test = np.reshape(x_test, (x_test.shape[0], x_test.shape[1], 1))\n",
        "\n",
        "# predict the testing data\n",
        "predictions = model.predict(x_test)\n",
        "predictions = scaler.inverse_transform(predictions)\n",
        "\n",
        "# evaluation metrics\n",
        "mse = np.mean(((predictions - y_test) ** 2))\n",
        "print(\"MSE\", mse)\n",
        "print(\"RMSE\", np.sqrt(mse))"
      ],
      "metadata": {
        "id": "s0vLlOR2wNfm"
      },
      "execution_count": null,
      "outputs": []
    },
    {
      "cell_type": "code",
      "source": [
        "train = data[:training]\n",
        "test = data[training:]\n",
        "test['Predictions'] = predictions\n",
        "\n",
        "plt.figure(figsize=(60, 30))\n",
        "plt.subplot(2, 2, 1)\n",
        "plt.plot(train['Date'], train['Close'])\n",
        "plt.plot(test['Date'], test[['Close', 'Predictions']])\n",
        "plt.title('Apple Stock Close Price')\n",
        "plt.xlabel('Date')\n",
        "plt.ylabel(\"Close\")\n",
        "plt.legend(['Train', 'Test', 'Predictions'])"
      ],
      "metadata": {
        "id": "XE4gejtxwSCq"
      },
      "execution_count": null,
      "outputs": []
    }
  ],
  "metadata": {
    "colab": {
      "provenance": [],
      "include_colab_link": true
    },
    "kernelspec": {
      "display_name": "Python 3",
      "language": "python",
      "name": "python3"
    },
    "language_info": {
      "codemirror_mode": {
        "name": "ipython",
        "version": 3
      },
      "file_extension": ".py",
      "mimetype": "text/x-python",
      "name": "python",
      "nbconvert_exporter": "python",
      "pygments_lexer": "ipython3",
      "version": "3.6.4"
    }
  },
  "nbformat": 4,
  "nbformat_minor": 0
}